{
 "cells": [
  {
   "cell_type": "markdown",
   "metadata": {},
   "source": [
    "## 20190423"
   ]
  },
  {
   "cell_type": "markdown",
   "metadata": {},
   "source": [
    "# 作業1：\n",
    "\n",
    "## 請上 Kaggle, 在 Competitions 或 Dataset 中找一組競賽或資料並寫下：\n",
    "\n",
    "1. 你選的這組資料為何重要\n",
    "\n",
    "2. 資料從何而來 (tips: 譬如提供者是誰、以什麼方式蒐集)\n",
    "\n",
    "3. 蒐集而來的資料型態為何\n",
    "\n",
    "4. 這組資料想解決的問題如何評估"
   ]
  },
  {
   "cell_type": "markdown",
   "metadata": {},
   "source": [
    "因為太陽能的能源，主要是來自於太陽能面板所接收到的太陽照射的面積與強度，會受到天氣以及雲遮的影響，代表說太陽能電源在進入電網的時候，如果發電不穩，容易造成系統不穩定，台灣的電網屬於獨立的系統，與中國、歐洲、美洲不同，無法與鄰近地區的電網相連，如果遇到缺電問題，可能要採取限電的措施，所以如果可以提前預測發電的變動的話，調度及運轉單位會有較充裕的時間可以因應。因此，太陽能發電預測是大量太陽能電力注入發電系統不可或缺的配套措施之一，國外某些電力自由化市場，發電業者必須提供未來24小時的發電量預測，以便決定市場的交易價格，因此，開發建置一個先進的發電預測系統，提供電力運轉所需的輔助資訊將更為重要。"
   ]
  },
  {
   "cell_type": "markdown",
   "metadata": {},
   "source": [
    "### 30 Years of European Solar Generation\n",
    "#### Hourly energy potential for 1986-2015\n",
    "1. 目標是想做太陽能發電量預測，在非再生能源日漸缺乏的情況下，再生能源的發展日漸茁壯。而這組資料集中，提供了歐洲各國近30年來的太陽能發電資料，有助於我們來分析太陽能發電。對於預測發電量這件事，因為太陽能發電的多寡取決於太陽能面板所接收到的太陽照射的面積與強度，天氣、雲遮都會對發電造成影響。台灣的電網系統與其他中國、歐美國家的不同，屬於獨立的電網系統，發電不穩定容易造成系統的不穩。而準確地預測發電量就可以讓調度及運轉單位會有較充裕的時間可以因應。\n",
    "<br>\n",
    "\n",
    "2. 來源為Kaggle網站 https://www.kaggle.com/sohier/30-years-of-european-solar-generation <br>\n",
    "   提供者為 Sohier Dane <br>\n",
    "   最後更新時間為兩年前 <br>\n",
    "   版本號為 2\n",
    "   <br>\n",
    "\n",
    "3. 資料格式為CSV，共有261個欄位，自 1986到 2015年 每小時的資料，欄位內為浮點數。\n",
    "   <br>\n",
    "\n",
    "4. 將現有資料做區隔，按比例區分測試、訓練以及驗證的資料，利用回歸或是類神經網路來做預測。因為太陽能的能源，主要是來自於太陽能面板所接收到的太陽照射的面積與強度，若是再加上該地區在該時間的天氣、日照狀況，應該可以達到更好的效果。"
   ]
  },
  {
   "cell_type": "code",
   "execution_count": null,
   "metadata": {},
   "outputs": [],
   "source": []
  },
  {
   "cell_type": "markdown",
   "metadata": {},
   "source": [
    "# 作業2：\n",
    "\n",
    "## 想像你經營一個自由載客車隊，你希望能透過數據分析以提升業績，請你思考並描述你如何規劃整體的分析/解決方案：\n",
    "\n",
    "1. 核心問題為何 (tips：如何定義 「提升業績 & 你的假設」)\n",
    "\n",
    "2. 資料從何而來 (tips：哪些資料可能會對你想問的問題產生影響 & 資料如何蒐集)\n",
    "\n",
    "3. 蒐集而來的資料型態為何\n",
    "\n",
    "4. 你要回答的問題，其如何評估 (tips：你的假設如何驗證)"
   ]
  },
  {
   "cell_type": "markdown",
   "metadata": {},
   "source": [
    "## 目的是提升業績，那我會從兩個方向來著手。\n",
    "\n",
    "* __減少成本__: 有效的減少當前營業所需要用到的一切成本，包括人力、器材...等費用\n",
    "   1. 假設: 我想知道了解器材折舊率以及其對應到我所花費的金額，減少支出\n",
    "   2. 資料來源: 要知道錢怎麼花的，最基本的資料由帳本而來，除此之外，也需要相關設備的細節、手冊\n",
    "   3. 資料型態: 每個金額會對應到一個花費的名目，跟錢有關的資料比較會以結構化的方式來蒐集。跟設備有關的資料，除了數值之外，應該\n",
    "      會有一些細節的部份，這裡的可能就要為這些資料規劃非結構化的儲存與應用方式\n",
    "   4. 評估與驗證: 以固定的時間週期，來判斷器材的損耗程度，以及在維修上所花的費用，預測接下來來所需花費之金額及器材的耗損程度\n",
    "\n",
    "\n",
    "* __維持客戶__、增加客源: 由客戶的資料當中，挖掘出對提升業績有用的資料\n",
    "   1. 假設: 我想要增加客人對我們車隊的依賴性\n",
    "   2. 資料來源: 客戶的部分基本資料、行車路線、移動時間、花費金額、車況\n",
    "   3. 資料型態: 這個部分的資料相對於前面，有相當的複雜程度，須規劃非結構化的儲存與應用方式\n",
    "   4. 驗證與評估: 由客戶所花費之金額與時間，推算出他經常通過的地點，搭配車況的分析，提升效率與品質\n"
   ]
  },
  {
   "cell_type": "code",
   "execution_count": null,
   "metadata": {},
   "outputs": [],
   "source": []
  },
  {
   "cell_type": "markdown",
   "metadata": {},
   "source": [
    "# 作業3：\n",
    "\n",
    "## 請點選下方檢視範例依照 Day_001_example_of_metrics.ipynb 完成 Mean Squared Error 的函式\n",
    "\n",
    "資料夾結構建立規則提醒：2nd-ML100Days > data資料夾 & homework資料夾 (ipynb檔) \n",
    "\n",
    "(請注意data的存放位置，建議放在*.ipynb 同一個目錄下，這樣才能在不修改code的情況下正常執行)"
   ]
  },
  {
   "cell_type": "markdown",
   "metadata": {},
   "source": [
    "## 練習時間\n",
    "#### 請寫一個函式用來計算 Mean Square Error\n",
    "$ MSE = \\frac{1}{n}\\sum_{i=1}^{n}{(Y_i - \\hat{Y}_i)^2} $\n",
    "\n",
    "### Hint: [如何取平方](https://googoodesign.gitbooks.io/-ezpython/unit-1.html)"
   ]
  },
  {
   "cell_type": "code",
   "execution_count": 1,
   "metadata": {},
   "outputs": [],
   "source": [
    "import numpy as np\n",
    "import matplotlib.pyplot as plt"
   ]
  },
  {
   "cell_type": "code",
   "execution_count": 2,
   "metadata": {},
   "outputs": [],
   "source": [
    "def mean_squared_error(y, yp):\n",
    "    \"\"\"\n",
    "    請完成這個 Function 後往下執行\n",
    "    \"\"\"\n",
    "    mse = MSE = sum((y - yp) ** 2) / len(y)\n",
    "    return mse"
   ]
  },
  {
   "cell_type": "code",
   "execution_count": 3,
   "metadata": {},
   "outputs": [],
   "source": [
    "def mean_absolute_error(y, yp):\n",
    "    \"\"\"\n",
    "    計算 MAE\n",
    "    Args:\n",
    "        - y: 實際值\n",
    "        - yp: 預測值\n",
    "    Return:\n",
    "        - mae: MAE\n",
    "    \"\"\"\n",
    "    mae = MAE = sum(abs(y - yp)) / len(y)\n",
    "    return mae"
   ]
  },
  {
   "cell_type": "code",
   "execution_count": 4,
   "metadata": {},
   "outputs": [
    {
     "data": {
      "image/png": "[encoded data removed]",
      "text/plain": [
       "<Figure size 432x288 with 1 Axes>"
      ]
     },
     "metadata": {},
     "output_type": "display_data"
    }
   ],
   "source": [
    "w = 3\n",
    "b = 0.5\n",
    "\n",
    "x_lin = np.linspace(0, 100, 101)\n",
    "\n",
    "y = (x_lin + np.random.randn(101) * 5) * w + b\n",
    "\n",
    "plt.plot(x_lin, y, 'b.', label = 'data points')\n",
    "plt.title(\"Assume we have data points\")\n",
    "plt.legend(loc = 2)\n",
    "plt.show()"
   ]
  },
  {
   "cell_type": "code",
   "execution_count": 5,
   "metadata": {},
   "outputs": [
    {
     "data": {
      "image/png": "[encoded data removed]",
      "text/plain": [
       "<Figure size 432x288 with 1 Axes>"
      ]
     },
     "metadata": {},
     "output_type": "display_data"
    }
   ],
   "source": [
    "y_hat = x_lin * w + b\n",
    "plt.plot(x_lin, y, 'b.', label = 'data')\n",
    "plt.plot(x_lin, y_hat, 'r-', label = 'prediction')\n",
    "plt.title(\"Assume we have data points (And the prediction)\")\n",
    "plt.legend(loc = 2)\n",
    "plt.show()"
   ]
  },
  {
   "cell_type": "code",
   "execution_count": 6,
   "metadata": {},
   "outputs": [
    {
     "name": "stdout",
     "output_type": "stream",
     "text": [
      "The Mean squared error is 216.152\n",
      "The Mean absolute error is 12.163\n"
     ]
    }
   ],
   "source": [
    "# 執行 Function, 確認有沒有正常執行\n",
    "MSE = mean_squared_error(y, y_hat)\n",
    "MAE = mean_absolute_error(y, y_hat)\n",
    "print(\"The Mean squared error is %.3f\" % (MSE))\n",
    "print(\"The Mean absolute error is %.3f\" % (MAE))"
   ]
  }
 ],
 "metadata": {
  "anaconda-cloud": {},
  "kernelspec": {
   "display_name": "Python 3",
   "language": "python",
   "name": "python3"
  },
  "language_info": {
   "codemirror_mode": {
    "name": "ipython",
    "version": 3
   },
   "file_extension": ".py",
   "mimetype": "text/x-python",
   "name": "python",
   "nbconvert_exporter": "python",
   "pygments_lexer": "ipython3",
   "version": "3.6.5"
  }
 },
 "nbformat": 4,
 "nbformat_minor": 1
}
