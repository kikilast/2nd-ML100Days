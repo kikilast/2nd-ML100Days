{
 "cells": [
  {
   "cell_type": "markdown",
   "metadata": {},
   "source": [
    "## Work\n",
    "1. 請嘗試將 preproc_x 替換成以每筆資料的 min/max 進行標準化至 -1 ~ 1 間，再進行訓練\n",
    "2. 請嘗試將 mlp 疊更深 (e.g 5~10 層)，進行訓練後觀察 learning curve 的走勢\n",
    "3. (optional) 請改用 GPU 進行訓練 (如果你有 GPU 的話)，比較使用 CPU 與 GPU 的訓練速度"
   ]
  },
  {
   "cell_type": "code",
   "execution_count": 1,
   "metadata": {},
   "outputs": [
    {
     "name": "stderr",
     "output_type": "stream",
     "text": [
      "'nvidia-smi.exe' 不是內部或外部命令、可執行的程式或批次檔。\n"
     ]
    }
   ],
   "source": [
    "## \n",
    "\"\"\"\n",
    "Your code here (optional)\n",
    "確認硬體資源\n",
    "\"\"\"\n",
    "!nvidia-smi.exe -h"
   ]
  },
  {
   "cell_type": "code",
   "execution_count": 2,
   "metadata": {},
   "outputs": [
    {
     "name": "stderr",
     "output_type": "stream",
     "text": [
      "Using TensorFlow backend.\n"
     ]
    }
   ],
   "source": [
    "import os\n",
    "import keras\n",
    "\n",
    "# 請嘗試設定 GPU：os.environ\n",
    "# 本範例不需使用 GPU, 將 GPU 設定為 \"無\"\n",
    "os.environ[\"CUDA_VISIBLE_DEVICES\"] = \"無\""
   ]
  },
  {
   "cell_type": "code",
   "execution_count": 3,
   "metadata": {},
   "outputs": [],
   "source": [
    "train, test = keras.datasets.cifar10.load_data()"
   ]
  },
  {
   "cell_type": "code",
   "execution_count": 4,
   "metadata": {},
   "outputs": [],
   "source": [
    "## 資料前處理\n",
    "def preproc_x(x, flatten=True):\n",
    "    x = x / 255.\n",
    "    if flatten:\n",
    "        x = x.reshape((len(x), -1))\n",
    "    return x\n",
    "\n",
    "def preproc_y(y, num_classes=10):\n",
    "    if y.shape[-1] == 1:\n",
    "        y = keras.utils.to_categorical(y, num_classes)\n",
    "    return y    "
   ]
  },
  {
   "cell_type": "code",
   "execution_count": 5,
   "metadata": {},
   "outputs": [],
   "source": [
    "x_train, y_train = train\n",
    "x_test, y_test = test\n",
    "\n",
    "# Preproc the inputs\n",
    "x_train = preproc_x(x_train)\n",
    "x_test = preproc_x(x_test)\n",
    "\n",
    "# Preprc the outputs\n",
    "y_train = preproc_y(y_train)\n",
    "y_test = preproc_y(y_test)"
   ]
  },
  {
   "cell_type": "code",
   "execution_count": 7,
   "metadata": {},
   "outputs": [],
   "source": [
    "\"\"\"Code Here\n",
    "建立你的神經網路\n",
    "\"\"\"\n",
    "\n",
    "def build_mlp(input_shape, output_units=10, num_neurons=[512, 256, 128]):\n",
    "    input_layer = keras.layers.Input(input_shape)\n",
    "    \n",
    "    for i, n_units in enumerate(num_neurons):\n",
    "        if i == 0:\n",
    "            x = keras.layers.Dense(units=n_units, activation=\"relu\", name=\"hidden_layer\"+str(i+1))(input_layer)\n",
    "        else:\n",
    "            x = keras.layers.Dense(units=n_units, activation=\"relu\", name=\"hidden_layer\"+str(i+1))(x)\n",
    "    \n",
    "    out = keras.layers.Dense(units=output_units, activation=\"softmax\", name=\"output\")(x)\n",
    "    \n",
    "    model = keras.models.Model(inputs=[input_layer], outputs=[out])\n",
    "    return model"
   ]
  },
  {
   "cell_type": "code",
   "execution_count": 8,
   "metadata": {},
   "outputs": [
    {
     "name": "stderr",
     "output_type": "stream",
     "text": [
      "WARNING: Logging before flag parsing goes to stderr.\n",
      "W0816 14:44:55.011897 14480 deprecation_wrapper.py:119] From C:\\Users\\asus\\Anaconda3\\lib\\site-packages\\keras\\backend\\tensorflow_backend.py:74: The name tf.get_default_graph is deprecated. Please use tf.compat.v1.get_default_graph instead.\n",
      "\n",
      "W0816 14:44:55.198060 14480 deprecation_wrapper.py:119] From C:\\Users\\asus\\Anaconda3\\lib\\site-packages\\keras\\backend\\tensorflow_backend.py:517: The name tf.placeholder is deprecated. Please use tf.compat.v1.placeholder instead.\n",
      "\n",
      "W0816 14:44:55.242166 14480 deprecation_wrapper.py:119] From C:\\Users\\asus\\Anaconda3\\lib\\site-packages\\keras\\backend\\tensorflow_backend.py:4138: The name tf.random_uniform is deprecated. Please use tf.random.uniform instead.\n",
      "\n"
     ]
    },
    {
     "name": "stdout",
     "output_type": "stream",
     "text": [
      "_________________________________________________________________\n",
      "Layer (type)                 Output Shape              Param #   \n",
      "=================================================================\n",
      "input_1 (InputLayer)         (None, 3072)              0         \n",
      "_________________________________________________________________\n",
      "hidden_layer1 (Dense)        (None, 512)               1573376   \n",
      "_________________________________________________________________\n",
      "hidden_layer2 (Dense)        (None, 256)               131328    \n",
      "_________________________________________________________________\n",
      "hidden_layer3 (Dense)        (None, 128)               32896     \n",
      "_________________________________________________________________\n",
      "output (Dense)               (None, 10)                1290      \n",
      "=================================================================\n",
      "Total params: 1,738,890\n",
      "Trainable params: 1,738,890\n",
      "Non-trainable params: 0\n",
      "_________________________________________________________________\n"
     ]
    }
   ],
   "source": [
    "model = build_mlp(input_shape=x_train.shape[1:])\n",
    "model.summary()"
   ]
  },
  {
   "cell_type": "code",
   "execution_count": 9,
   "metadata": {},
   "outputs": [],
   "source": [
    "## 超參數設定\n",
    "LEARNING_RATE = 0.001\n",
    "EPOCHS = 100\n",
    "BATCH_SIZE = 256"
   ]
  },
  {
   "cell_type": "code",
   "execution_count": 10,
   "metadata": {},
   "outputs": [
    {
     "name": "stderr",
     "output_type": "stream",
     "text": [
      "W0816 14:45:04.515908 14480 deprecation_wrapper.py:119] From C:\\Users\\asus\\Anaconda3\\lib\\site-packages\\keras\\optimizers.py:790: The name tf.train.Optimizer is deprecated. Please use tf.compat.v1.train.Optimizer instead.\n",
      "\n",
      "W0816 14:45:04.550090 14480 deprecation_wrapper.py:119] From C:\\Users\\asus\\Anaconda3\\lib\\site-packages\\keras\\backend\\tensorflow_backend.py:3295: The name tf.log is deprecated. Please use tf.math.log instead.\n",
      "\n"
     ]
    }
   ],
   "source": [
    "optimizer = keras.optimizers.Adam(lr=LEARNING_RATE)\n",
    "model.compile(loss=\"categorical_crossentropy\", metrics=[\"accuracy\"], optimizer=optimizer)"
   ]
  },
  {
   "cell_type": "code",
   "execution_count": 11,
   "metadata": {
    "scrolled": true
   },
   "outputs": [
    {
     "name": "stderr",
     "output_type": "stream",
     "text": [
      "W0816 14:45:13.073052 14480 deprecation.py:323] From C:\\Users\\asus\\Anaconda3\\lib\\site-packages\\tensorflow\\python\\ops\\math_grad.py:1250: add_dispatch_support.<locals>.wrapper (from tensorflow.python.ops.array_ops) is deprecated and will be removed in a future version.\n",
      "Instructions for updating:\n",
      "Use tf.where in 2.0, which has the same broadcast rule as np.where\n",
      "W0816 14:45:13.453387 14480 deprecation_wrapper.py:119] From C:\\Users\\asus\\Anaconda3\\lib\\site-packages\\keras\\backend\\tensorflow_backend.py:986: The name tf.assign_add is deprecated. Please use tf.compat.v1.assign_add instead.\n",
      "\n"
     ]
    },
    {
     "name": "stdout",
     "output_type": "stream",
     "text": [
      "Train on 50000 samples, validate on 10000 samples\n",
      "Epoch 1/100\n",
      "50000/50000 [==============================] - 21s 416us/step - loss: 1.9220 - acc: 0.3053 - val_loss: 1.7609 - val_acc: 0.3717\n",
      "Epoch 2/100\n",
      "50000/50000 [==============================] - 19s 378us/step - loss: 1.7071 - acc: 0.3873 - val_loss: 1.6854 - val_acc: 0.4007.384 - ETA: 2\n",
      "Epoch 3/100\n",
      "50000/50000 [==============================] - 20s 408us/step - loss: 1.6175 - acc: 0.4218 - val_loss: 1.6152 - val_acc: 0.4213\n",
      "Epoch 4/100\n",
      "50000/50000 [==============================] - 19s 383us/step - loss: 1.5573 - acc: 0.4454 - val_loss: 1.5305 - val_acc: 0.4594\n",
      "Epoch 5/100\n",
      "50000/50000 [==============================] - 18s 361us/step - loss: 1.5066 - acc: 0.4646 - val_loss: 1.5051 - val_acc: 0.4651\n",
      "Epoch 6/100\n",
      "50000/50000 [==============================] - 19s 374us/step - loss: 1.4765 - acc: 0.4736 - val_loss: 1.4926 - val_acc: 0.4616\n",
      "Epoch 7/100\n",
      "50000/50000 [==============================] - 18s 363us/step - loss: 1.4326 - acc: 0.4885 - val_loss: 1.4838 - val_acc: 0.4694\n",
      "Epoch 8/100\n",
      "50000/50000 [==============================] - 18s 358us/step - loss: 1.4089 - acc: 0.4975 - val_loss: 1.4508 - val_acc: 0.4821\n",
      "Epoch 9/100\n",
      "50000/50000 [==============================] - 18s 359us/step - loss: 1.3763 - acc: 0.5085 - val_loss: 1.4202 - val_acc: 0.4947\n",
      "Epoch 10/100\n",
      "50000/50000 [==============================] - 19s 386us/step - loss: 1.3505 - acc: 0.5179 - val_loss: 1.4148 - val_acc: 0.4978\n",
      "Epoch 11/100\n",
      "50000/50000 [==============================] - 18s 369us/step - loss: 1.3230 - acc: 0.5282 - val_loss: 1.4350 - val_acc: 0.4862\n",
      "Epoch 12/100\n",
      "50000/50000 [==============================] - 19s 379us/step - loss: 1.3124 - acc: 0.5292 - val_loss: 1.4107 - val_acc: 0.4991\n",
      "Epoch 13/100\n",
      "50000/50000 [==============================] - 18s 370us/step - loss: 1.2878 - acc: 0.5401 - val_loss: 1.3929 - val_acc: 0.5077\n",
      "Epoch 14/100\n",
      "50000/50000 [==============================] - 18s 365us/step - loss: 1.2638 - acc: 0.5491 - val_loss: 1.4110 - val_acc: 0.5029 loss: 1.26\n",
      "Epoch 15/100\n",
      "50000/50000 [==============================] - 18s 354us/step - loss: 1.2370 - acc: 0.5606 - val_loss: 1.4426 - val_acc: 0.4904\n",
      "Epoch 16/100\n",
      "50000/50000 [==============================] - 18s 368us/step - loss: 1.2249 - acc: 0.5637 - val_loss: 1.3701 - val_acc: 0.5145\n",
      "Epoch 17/100\n",
      "50000/50000 [==============================] - 19s 380us/step - loss: 1.2038 - acc: 0.5710 - val_loss: 1.3723 - val_acc: 0.5164\n",
      "Epoch 18/100\n",
      "50000/50000 [==============================] - 20s 397us/step - loss: 1.1827 - acc: 0.5797 - val_loss: 1.4240 - val_acc: 0.5044\n",
      "Epoch 19/100\n",
      "50000/50000 [==============================] - 20s 396us/step - loss: 1.1538 - acc: 0.5886 - val_loss: 1.3924 - val_acc: 0.5150\n",
      "Epoch 20/100\n",
      "50000/50000 [==============================] - 20s 393us/step - loss: 1.1492 - acc: 0.5922 - val_loss: 1.3941 - val_acc: 0.5174\n",
      "Epoch 21/100\n",
      "50000/50000 [==============================] - 18s 367us/step - loss: 1.1100 - acc: 0.6026 - val_loss: 1.3686 - val_acc: 0.5224\n",
      "Epoch 22/100\n",
      "50000/50000 [==============================] - 18s 363us/step - loss: 1.0994 - acc: 0.6090 - val_loss: 1.4067 - val_acc: 0.5165\n",
      "Epoch 23/100\n",
      "50000/50000 [==============================] - 19s 376us/step - loss: 1.0801 - acc: 0.6138 - val_loss: 1.3686 - val_acc: 0.5268\n",
      "Epoch 24/100\n",
      "50000/50000 [==============================] - 20s 391us/step - loss: 1.0617 - acc: 0.6214 - val_loss: 1.3835 - val_acc: 0.5238\n",
      "Epoch 25/100\n",
      "50000/50000 [==============================] - 20s 397us/step - loss: 1.0424 - acc: 0.6275 - val_loss: 1.4111 - val_acc: 0.5186\n",
      "Epoch 26/100\n",
      "50000/50000 [==============================] - 19s 390us/step - loss: 1.0180 - acc: 0.6338 - val_loss: 1.4120 - val_acc: 0.5237\n",
      "Epoch 27/100\n",
      "50000/50000 [==============================] - 18s 368us/step - loss: 1.0037 - acc: 0.6427 - val_loss: 1.3803 - val_acc: 0.5314\n",
      "Epoch 28/100\n",
      "50000/50000 [==============================] - 19s 387us/step - loss: 0.9908 - acc: 0.6484 - val_loss: 1.3936 - val_acc: 0.5250\n",
      "Epoch 29/100\n",
      "50000/50000 [==============================] - 19s 390us/step - loss: 0.9629 - acc: 0.6567 - val_loss: 1.4534 - val_acc: 0.5176\n",
      "Epoch 30/100\n",
      "50000/50000 [==============================] - 20s 399us/step - loss: 0.9560 - acc: 0.6613 - val_loss: 1.4131 - val_acc: 0.5293\n",
      "Epoch 31/100\n",
      "50000/50000 [==============================] - 20s 392us/step - loss: 0.9259 - acc: 0.6687 - val_loss: 1.4717 - val_acc: 0.5132\n",
      "Epoch 32/100\n",
      "50000/50000 [==============================] - 19s 386us/step - loss: 0.9196 - acc: 0.6735 - val_loss: 1.4476 - val_acc: 0.5221\n",
      "Epoch 33/100\n",
      "50000/50000 [==============================] - 19s 370us/step - loss: 0.8934 - acc: 0.6829 - val_loss: 1.4530 - val_acc: 0.5293\n",
      "Epoch 34/100\n",
      "50000/50000 [==============================] - 18s 370us/step - loss: 0.8830 - acc: 0.6849 - val_loss: 1.4667 - val_acc: 0.5288\n",
      "Epoch 35/100\n",
      "50000/50000 [==============================] - 18s 368us/step - loss: 0.8593 - acc: 0.6916 - val_loss: 1.4638 - val_acc: 0.5300\n",
      "Epoch 36/100\n",
      "50000/50000 [==============================] - 19s 377us/step - loss: 0.8529 - acc: 0.6933 - val_loss: 1.5381 - val_acc: 0.5183\n",
      "Epoch 37/100\n",
      "50000/50000 [==============================] - 18s 370us/step - loss: 0.8239 - acc: 0.7077 - val_loss: 1.4966 - val_acc: 0.5271\n",
      "Epoch 38/100\n",
      "50000/50000 [==============================] - 19s 384us/step - loss: 0.8034 - acc: 0.7155 - val_loss: 1.5496 - val_acc: 0.5173\n",
      "Epoch 39/100\n",
      "50000/50000 [==============================] - 20s 402us/step - loss: 0.7987 - acc: 0.7154 - val_loss: 1.5354 - val_acc: 0.5274\n",
      "Epoch 40/100\n",
      "50000/50000 [==============================] - 19s 376us/step - loss: 0.7874 - acc: 0.7220 - val_loss: 1.5580 - val_acc: 0.5287\n",
      "Epoch 41/100\n",
      "50000/50000 [==============================] - 19s 376us/step - loss: 0.7649 - acc: 0.7260 - val_loss: 1.5509 - val_acc: 0.5219\n",
      "Epoch 42/100\n",
      "50000/50000 [==============================] - 19s 373us/step - loss: 0.7602 - acc: 0.7302 - val_loss: 1.5783 - val_acc: 0.5250\n",
      "Epoch 43/100\n",
      "50000/50000 [==============================] - 18s 367us/step - loss: 0.7496 - acc: 0.7328 - val_loss: 1.5971 - val_acc: 0.5199\n",
      "Epoch 44/100\n",
      "50000/50000 [==============================] - 19s 373us/step - loss: 0.7275 - acc: 0.7399 - val_loss: 1.6499 - val_acc: 0.5170\n",
      "Epoch 45/100\n",
      "50000/50000 [==============================] - 18s 361us/step - loss: 0.7178 - acc: 0.7456 - val_loss: 1.6552 - val_acc: 0.5237\n",
      "Epoch 46/100\n",
      "50000/50000 [==============================] - 20s 396us/step - loss: 0.7084 - acc: 0.7479 - val_loss: 1.6654 - val_acc: 0.5200\n",
      "Epoch 47/100\n",
      "50000/50000 [==============================] - 20s 402us/step - loss: 0.6897 - acc: 0.7534 - val_loss: 1.6921 - val_acc: 0.5152\n",
      "Epoch 48/100\n",
      "50000/50000 [==============================] - 20s 403us/step - loss: 0.6784 - acc: 0.7583 - val_loss: 1.7226 - val_acc: 0.5169\n",
      "Epoch 49/100\n",
      "50000/50000 [==============================] - 20s 402us/step - loss: 0.6600 - acc: 0.7665 - val_loss: 1.7359 - val_acc: 0.5173\n",
      "Epoch 50/100\n",
      "50000/50000 [==============================] - 20s 405us/step - loss: 0.6413 - acc: 0.7714 - val_loss: 1.7875 - val_acc: 0.5136\n",
      "Epoch 51/100\n",
      "50000/50000 [==============================] - 19s 372us/step - loss: 0.6407 - acc: 0.7697 - val_loss: 1.7875 - val_acc: 0.5169\n",
      "Epoch 52/100\n",
      "50000/50000 [==============================] - 18s 367us/step - loss: 0.6145 - acc: 0.7798 - val_loss: 1.8300 - val_acc: 0.5063\n",
      "Epoch 53/100\n",
      "50000/50000 [==============================] - 18s 369us/step - loss: 0.6114 - acc: 0.7820 - val_loss: 1.8224 - val_acc: 0.5115\n",
      "Epoch 54/100\n",
      "50000/50000 [==============================] - 20s 405us/step - loss: 0.6052 - acc: 0.7841 - val_loss: 1.8174 - val_acc: 0.5108\n",
      "Epoch 55/100\n",
      "50000/50000 [==============================] - 20s 405us/step - loss: 0.5881 - acc: 0.7905 - val_loss: 1.9762 - val_acc: 0.5060\n",
      "Epoch 56/100\n",
      "50000/50000 [==============================] - 20s 401us/step - loss: 0.5838 - acc: 0.7923 - val_loss: 1.9202 - val_acc: 0.5170\n",
      "Epoch 57/100\n",
      "50000/50000 [==============================] - 19s 371us/step - loss: 0.5756 - acc: 0.7929 - val_loss: 1.9538 - val_acc: 0.5116\n",
      "Epoch 58/100\n"
     ]
    },
    {
     "name": "stdout",
     "output_type": "stream",
     "text": [
      "50000/50000 [==============================] - 18s 369us/step - loss: 0.5679 - acc: 0.7976 - val_loss: 2.0143 - val_acc: 0.5093\n",
      "Epoch 59/100\n",
      "50000/50000 [==============================] - 19s 376us/step - loss: 0.5438 - acc: 0.8051 - val_loss: 2.0091 - val_acc: 0.5070\n",
      "Epoch 60/100\n",
      "50000/50000 [==============================] - 18s 368us/step - loss: 0.5240 - acc: 0.8129 - val_loss: 1.9795 - val_acc: 0.5159\n",
      "Epoch 61/100\n",
      "50000/50000 [==============================] - 19s 384us/step - loss: 0.5237 - acc: 0.8128 - val_loss: 2.0171 - val_acc: 0.5077\n",
      "Epoch 62/100\n",
      "50000/50000 [==============================] - 19s 384us/step - loss: 0.5250 - acc: 0.8146 - val_loss: 2.0820 - val_acc: 0.5091\n",
      "Epoch 63/100\n",
      "50000/50000 [==============================] - 19s 376us/step - loss: 0.5055 - acc: 0.8215 - val_loss: 2.1449 - val_acc: 0.5024\n",
      "Epoch 64/100\n",
      "50000/50000 [==============================] - 19s 383us/step - loss: 0.4925 - acc: 0.8257 - val_loss: 2.1111 - val_acc: 0.5028\n",
      "Epoch 65/100\n",
      "50000/50000 [==============================] - 18s 369us/step - loss: 0.4821 - acc: 0.8303 - val_loss: 2.1559 - val_acc: 0.5100 loss: 0.482\n",
      "Epoch 66/100\n",
      "50000/50000 [==============================] - 18s 353us/step - loss: 0.4773 - acc: 0.8298 - val_loss: 2.2430 - val_acc: 0.5080\n",
      "Epoch 67/100\n",
      "50000/50000 [==============================] - 18s 353us/step - loss: 0.4782 - acc: 0.8283 - val_loss: 2.1715 - val_acc: 0.5057\n",
      "Epoch 68/100\n",
      "50000/50000 [==============================] - 17s 349us/step - loss: 0.4717 - acc: 0.8326 - val_loss: 2.2478 - val_acc: 0.5067\n",
      "Epoch 69/100\n",
      "50000/50000 [==============================] - 18s 366us/step - loss: 0.4677 - acc: 0.8334 - val_loss: 2.2323 - val_acc: 0.5064\n",
      "Epoch 70/100\n",
      "50000/50000 [==============================] - 19s 387us/step - loss: 0.4378 - acc: 0.8438 - val_loss: 2.3138 - val_acc: 0.4961\n",
      "Epoch 71/100\n",
      "50000/50000 [==============================] - 20s 391us/step - loss: 0.4470 - acc: 0.8404 - val_loss: 2.2860 - val_acc: 0.5096\n",
      "Epoch 72/100\n",
      "50000/50000 [==============================] - 19s 389us/step - loss: 0.4454 - acc: 0.8402 - val_loss: 2.3580 - val_acc: 0.5051\n",
      "Epoch 73/100\n",
      "50000/50000 [==============================] - 19s 385us/step - loss: 0.4161 - acc: 0.8515 - val_loss: 2.3800 - val_acc: 0.5019\n",
      "Epoch 74/100\n",
      "50000/50000 [==============================] - 20s 393us/step - loss: 0.4175 - acc: 0.8523 - val_loss: 2.3734 - val_acc: 0.5042\n",
      "Epoch 75/100\n",
      "50000/50000 [==============================] - 20s 392us/step - loss: 0.4261 - acc: 0.8491 - val_loss: 2.4256 - val_acc: 0.5017\n",
      "Epoch 76/100\n",
      "50000/50000 [==============================] - 19s 390us/step - loss: 0.4099 - acc: 0.8537 - val_loss: 2.5004 - val_acc: 0.5047\n",
      "Epoch 77/100\n",
      "50000/50000 [==============================] - 19s 390us/step - loss: 0.3852 - acc: 0.8625 - val_loss: 2.4256 - val_acc: 0.5002\n",
      "Epoch 78/100\n",
      "50000/50000 [==============================] - 19s 380us/step - loss: 0.3857 - acc: 0.8616 - val_loss: 2.5855 - val_acc: 0.5036\n",
      "Epoch 79/100\n",
      "50000/50000 [==============================] - 20s 393us/step - loss: 0.4145 - acc: 0.8521 - val_loss: 2.4648 - val_acc: 0.5023 ETA: 2s - los\n",
      "Epoch 80/100\n",
      "50000/50000 [==============================] - 20s 400us/step - loss: 0.3996 - acc: 0.8563 - val_loss: 2.5246 - val_acc: 0.5042\n",
      "Epoch 81/100\n",
      "50000/50000 [==============================] - 19s 373us/step - loss: 0.3631 - acc: 0.8706 - val_loss: 2.5794 - val_acc: 0.50540s - loss: 0.3630 - acc: 0.87\n",
      "Epoch 82/100\n",
      "50000/50000 [==============================] - 18s 368us/step - loss: 0.3655 - acc: 0.8700 - val_loss: 2.6275 - val_acc: 0.4987\n",
      "Epoch 83/100\n",
      "50000/50000 [==============================] - 19s 375us/step - loss: 0.3455 - acc: 0.8771 - val_loss: 2.6394 - val_acc: 0.5043\n",
      "Epoch 84/100\n",
      "50000/50000 [==============================] - 19s 371us/step - loss: 0.3441 - acc: 0.8771 - val_loss: 2.6884 - val_acc: 0.4975\n",
      "Epoch 85/100\n",
      "50000/50000 [==============================] - 19s 371us/step - loss: 0.3603 - acc: 0.8715 - val_loss: 2.6819 - val_acc: 0.4963\n",
      "Epoch 86/100\n",
      "50000/50000 [==============================] - 19s 390us/step - loss: 0.3522 - acc: 0.8748 - val_loss: 2.7691 - val_acc: 0.4881\n",
      "Epoch 87/100\n",
      "50000/50000 [==============================] - 19s 381us/step - loss: 0.3347 - acc: 0.8819 - val_loss: 2.8215 - val_acc: 0.5016\n",
      "Epoch 88/100\n",
      "50000/50000 [==============================] - 19s 375us/step - loss: 0.3444 - acc: 0.8769 - val_loss: 2.8756 - val_acc: 0.4889\n",
      "Epoch 89/100\n",
      "50000/50000 [==============================] - 19s 378us/step - loss: 0.3339 - acc: 0.8809 - val_loss: 2.8669 - val_acc: 0.4971\n",
      "Epoch 90/100\n",
      "50000/50000 [==============================] - 18s 369us/step - loss: 0.3386 - acc: 0.8796 - val_loss: 2.8212 - val_acc: 0.4964\n",
      "Epoch 91/100\n",
      "50000/50000 [==============================] - 18s 365us/step - loss: 0.3321 - acc: 0.8798 - val_loss: 2.8071 - val_acc: 0.5062\n",
      "Epoch 92/100\n",
      "50000/50000 [==============================] - 19s 376us/step - loss: 0.3191 - acc: 0.8859 - val_loss: 2.8818 - val_acc: 0.5008\n",
      "Epoch 93/100\n",
      "50000/50000 [==============================] - 18s 367us/step - loss: 0.3023 - acc: 0.8923 - val_loss: 2.8770 - val_acc: 0.5018\n",
      "Epoch 94/100\n",
      "50000/50000 [==============================] - 18s 359us/step - loss: 0.3093 - acc: 0.8894 - val_loss: 2.9153 - val_acc: 0.4992\n",
      "Epoch 95/100\n",
      "50000/50000 [==============================] - 17s 350us/step - loss: 0.3321 - acc: 0.8815 - val_loss: 2.9490 - val_acc: 0.5006\n",
      "Epoch 96/100\n",
      "50000/50000 [==============================] - 18s 358us/step - loss: 0.3081 - acc: 0.8903 - val_loss: 2.9566 - val_acc: 0.5075loss: 0.3087 - acc: 0.89\n",
      "Epoch 97/100\n",
      "50000/50000 [==============================] - 18s 366us/step - loss: 0.2933 - acc: 0.8962 - val_loss: 2.9591 - val_acc: 0.4973\n",
      "Epoch 98/100\n",
      "50000/50000 [==============================] - 19s 373us/step - loss: 0.2829 - acc: 0.9005 - val_loss: 3.0486 - val_acc: 0.4947\n",
      "Epoch 99/100\n",
      "50000/50000 [==============================] - 18s 370us/step - loss: 0.3151 - acc: 0.8866 - val_loss: 2.9978 - val_acc: 0.4954\n",
      "Epoch 100/100\n",
      "50000/50000 [==============================] - 19s 389us/step - loss: 0.2860 - acc: 0.8981 - val_loss: 3.0846 - val_acc: 0.4976\n"
     ]
    },
    {
     "data": {
      "text/plain": [
       "<keras.callbacks.History at 0x26e1d2c45c0>"
      ]
     },
     "execution_count": 11,
     "metadata": {},
     "output_type": "execute_result"
    }
   ],
   "source": [
    "model.fit(x_train, y_train, \n",
    "          epochs=EPOCHS, \n",
    "          batch_size=BATCH_SIZE, \n",
    "          validation_data=(x_test, y_test), \n",
    "          shuffle=True)"
   ]
  },
  {
   "cell_type": "code",
   "execution_count": 12,
   "metadata": {},
   "outputs": [
    {
     "data": {
      "text/plain": [
       "<Figure size 640x480 with 1 Axes>"
      ]
     },
     "metadata": {},
     "output_type": "display_data"
    },
    {
     "data": {
      "text/plain": [
       "<Figure size 640x480 with 1 Axes>"
      ]
     },
     "metadata": {},
     "output_type": "display_data"
    }
   ],
   "source": [
    "import matplotlib.pyplot as plt\n",
    "\n",
    "\n",
    "train_loss = model.history.history[\"loss\"]\n",
    "valid_loss = model.history.history[\"val_loss\"]\n",
    "\n",
    "train_acc = model.history.history[\"acc\"]\n",
    "valid_acc = model.history.history[\"val_acc\"]\n",
    "\n",
    "plt.plot(range(len(train_loss)), train_loss, label=\"train loss\")\n",
    "plt.plot(range(len(valid_loss)), valid_loss, label=\"valid loss\")\n",
    "plt.legend()\n",
    "plt.title(\"Loss\")\n",
    "plt.show()\n",
    "\n",
    "plt.plot(range(len(train_acc)), train_acc, label=\"train accuracy\")\n",
    "plt.plot(range(len(valid_acc)), valid_acc, label=\"valid accuracy\")\n",
    "plt.legend()\n",
    "plt.title(\"Accuracy\")\n",
    "plt.show()"
   ]
  },
  {
   "cell_type": "code",
   "execution_count": null,
   "metadata": {},
   "outputs": [],
   "source": []
  }
 ],
 "metadata": {
  "kernelspec": {
   "display_name": "Python 3",
   "language": "python",
   "name": "python3"
  },
  "language_info": {
   "codemirror_mode": {
    "name": "ipython",
    "version": 3
   },
   "file_extension": ".py",
   "mimetype": "text/x-python",
   "name": "python",
   "nbconvert_exporter": "python",
   "pygments_lexer": "ipython3",
   "version": "3.7.3"
  }
 },
 "nbformat": 4,
 "nbformat_minor": 2
}
